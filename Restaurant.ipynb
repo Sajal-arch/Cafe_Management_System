{
 "cells": [
  {
   "cell_type": "markdown",
   "metadata": {},
   "source": [
    "# DEFINE THE MENU OF THE RESTAURANT."
   ]
  },
  {
   "cell_type": "code",
   "execution_count": 16,
   "metadata": {},
   "outputs": [],
   "source": [
    "menu={'Pizza':100,'Pasta':150,'coffee':50,'Burger':100,'Tea':25,'Salad':50,'Noodles':80}"
   ]
  },
  {
   "cell_type": "code",
   "execution_count": 17,
   "metadata": {},
   "outputs": [
    {
     "data": {
      "text/plain": [
       "{'Pizza': 100,\n",
       " 'Pasta': 150,\n",
       " 'coffee': 50,\n",
       " 'Burger': 100,\n",
       " 'Tea': 25,\n",
       " 'Salad': 50,\n",
       " 'Noodles': 80}"
      ]
     },
     "execution_count": 17,
     "metadata": {},
     "output_type": "execute_result"
    }
   ],
   "source": [
    "menu"
   ]
  },
  {
   "cell_type": "code",
   "execution_count": 18,
   "metadata": {},
   "outputs": [],
   "source": [
    "# greet"
   ]
  },
  {
   "cell_type": "code",
   "execution_count": 19,
   "metadata": {},
   "outputs": [
    {
     "name": "stdout",
     "output_type": "stream",
     "text": [
      "WELCOME TO COFFEE & YOU RESTAURANT\n",
      "pizza: Rs100\n",
      "Pasta: Rs150\n",
      "coffee: Rs50\n",
      "Burger: Rs100\n",
      "Tea: Rs25\n",
      "Salad: Rs50\n",
      "Noodles: Rs80\n"
     ]
    }
   ],
   "source": [
    "print(\"WELCOME TO COFFEE & YOU RESTAURANT\")\n",
    "print('pizza: Rs100\\nPasta: Rs150\\ncoffee: Rs50\\nBurger: Rs100\\nTea: Rs25\\nSalad: Rs50\\nNoodles: Rs80')"
   ]
  },
  {
   "cell_type": "code",
   "execution_count": 23,
   "metadata": {},
   "outputs": [
    {
     "name": "stdout",
     "output_type": "stream",
     "text": [
      "Your item Tea has been added to your order\n",
      "Total amount of item is to pay 25\n"
     ]
    }
   ],
   "source": [
    "Order_Total=0\n",
    "item1=input('Enter the name of item you want to order=')\n",
    "if item1 in menu:\n",
    "    Order_Total+=menu[item1]\n",
    "    print(f'Your item {item1} has been added to your order')\n",
    "else:\n",
    "    print('please order something else we can serve you')\n",
    "\n",
    "another_order=input('Do you want to add another item? (Yes/No)')\n",
    "if another_order=='Yes':\n",
    "    item2=input('Enter the name of second item')\n",
    "    if item2 in menu:\n",
    "        Order_Total+=menu[item2]\n",
    "        print(f\"item {item2} has been added to order\")\n",
    "    else:\n",
    "        print(f\"Ordered item {item2} is not available\")\n",
    "print(f\"Total amount of item is to pay {Order_Total}\")\n"
   ]
  },
  {
   "cell_type": "code",
   "execution_count": null,
   "metadata": {},
   "outputs": [],
   "source": []
  }
 ],
 "metadata": {
  "kernelspec": {
   "display_name": "Python 3",
   "language": "python",
   "name": "python3"
  },
  "language_info": {
   "codemirror_mode": {
    "name": "ipython",
    "version": 3
   },
   "file_extension": ".py",
   "mimetype": "text/x-python",
   "name": "python",
   "nbconvert_exporter": "python",
   "pygments_lexer": "ipython3",
   "version": "3.12.1"
  }
 },
 "nbformat": 4,
 "nbformat_minor": 2
}
